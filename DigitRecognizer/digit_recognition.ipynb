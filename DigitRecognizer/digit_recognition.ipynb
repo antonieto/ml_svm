{
  "nbformat": 4,
  "nbformat_minor": 0,
  "metadata": {
    "colab": {
      "provenance": [],
      "toc_visible": true,
      "authorship_tag": "ABX9TyPune5Hw3cfuP0960P4M7fD",
      "include_colab_link": true
    },
    "kernelspec": {
      "name": "python3",
      "display_name": "Python 3"
    },
    "language_info": {
      "name": "python"
    }
  },
  "cells": [
    {
      "cell_type": "markdown",
      "metadata": {
        "id": "view-in-github",
        "colab_type": "text"
      },
      "source": [
        "<a href=\"https://colab.research.google.com/github/antonieto/ml_svm/blob/feat%2Fnotebook/DigitRecognizer/digit_recognition.ipynb\" target=\"_parent\"><img src=\"https://colab.research.google.com/assets/colab-badge.svg\" alt=\"Open In Colab\"/></a>"
      ]
    },
    {
      "cell_type": "code",
      "execution_count": 14,
      "metadata": {
        "colab": {
          "base_uri": "https://localhost:8080/",
          "height": 491
        },
        "id": "UgKQzU26dj7w",
        "outputId": "12f053f0-5125-4ef0-9ae0-0103b8b49ccd"
      },
      "outputs": [
        {
          "output_type": "stream",
          "name": "stdout",
          "text": [
            "1/1 [==============================] - 0s 106ms/step\n"
          ]
        },
        {
          "output_type": "display_data",
          "data": {
            "text/plain": [
              "<Figure size 640x480 with 1 Axes>"
            ],
            "image/png": "[encoded data removed]"
          },
          "metadata": {}
        }
      ],
      "source": [
        "from keras.datasets import mnist\n",
        "from keras.models import load_model\n",
        "from keras.utils import to_categorical\n",
        "import numpy as np\n",
        "import matplotlib.pyplot as plt\n",
        "\n",
        "\n",
        "def main():\n",
        "\n",
        "    (X_train, y_train), (X_test, y_test) = mnist.load_data()\n",
        "\n",
        "    X_train = X_train.reshape(60000, 784)\n",
        "    X_test = X_test.reshape(10000, 784)\n",
        "    X_train = X_train.astype('float32')\n",
        "    X_test = X_test.astype('float32')\n",
        "\n",
        "    X_train /= 255\n",
        "    X_test /= 255\n",
        "\n",
        "\n",
        "    n_classes = 10\n",
        "    Y_test = to_categorical(y_test, n_classes)\n",
        "\n",
        "    mnist_model = load_model(\"/content/keras_mnist.h5\")\n",
        "\n",
        "\n",
        "\n",
        "    random_index = np.random.randint(0, len(X_test))\n",
        "    random_image = X_test[random_index]\n",
        "\n",
        "    random_image_reshaped = random_image.reshape((28, 28))\n",
        "\n",
        "\n",
        "    prediction = mnist_model.predict(np.expand_dims(random_image, axis=0))\n",
        "\n",
        "    # Get the predicted class\n",
        "    predicted_class = np.argmax(prediction)\n",
        "\n",
        "    # Plot the randomly selected image\n",
        "    plt.imshow(random_image_reshaped, cmap='gray')\n",
        "    plt.title(f\"Randomly Selected Digit: {y_test[random_index]}\\nPrediction: {predicted_class}\")\n",
        "    plt.show()\n",
        "\n",
        "\n",
        "\n",
        "if __name__ == '__main__':\n",
        "    main()\n"
      ]
    },
    {
      "cell_type": "markdown",
      "source": [
        "# Sección nueva"
      ],
      "metadata": {
        "id": "ywCy1JGTePOk"
      }
    }
  ]
}